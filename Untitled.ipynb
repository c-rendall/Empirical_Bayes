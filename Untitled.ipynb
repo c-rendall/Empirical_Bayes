{
 "cells": [
  {
   "cell_type": "code",
   "execution_count": 21,
   "metadata": {},
   "outputs": [],
   "source": [
    "import numpy as np\n",
    "import pandas as pd\n",
    "import matplotlib.pyplot as plt\n",
    "import seaborn as sns\n",
    "from scipy.stats import beta, binom\n",
    "\n",
    "plt.style.use('ggplot')"
   ]
  },
  {
   "cell_type": "markdown",
   "metadata": {},
   "source": [
    "### 1. Introduction "
   ]
  },
  {
   "cell_type": "markdown",
   "metadata": {},
   "source": [
    "How do we tell whether Mike Piazza or Hank Aaron is a better batter? Mike Piazza has 2127 hits out of 6911 at-bats = 0.308, while Hank Aaron has 3771 hits out of 12364 at-bats = 0.305.  How do we say for sure who is *actually* better? Now we need to look at A/B testing to understand the difference between two proportions.  The batting scenario is very common in data science in the form of a **click-through rate**, which can be modeled in a similar way.  "
   ]
  },
  {
   "cell_type": "markdown",
   "metadata": {},
   "source": [
    "### 2. Setup"
   ]
  },
  {
   "cell_type": "markdown",
   "metadata": {},
   "source": [
    "As usual, we will remove pitchers with 3 or more games pitched from the batters dataset and calculate our `eb_estimate` values: "
   ]
  },
  {
   "cell_type": "code",
   "execution_count": 15,
   "metadata": {},
   "outputs": [
    {
     "data": {
      "text/html": [
       "<div>\n",
       "<style scoped>\n",
       "    .dataframe tbody tr th:only-of-type {\n",
       "        vertical-align: middle;\n",
       "    }\n",
       "\n",
       "    .dataframe tbody tr th {\n",
       "        vertical-align: top;\n",
       "    }\n",
       "\n",
       "    .dataframe thead th {\n",
       "        text-align: right;\n",
       "    }\n",
       "</style>\n",
       "<table border=\"1\" class=\"dataframe\">\n",
       "  <thead>\n",
       "    <tr style=\"text-align: right;\">\n",
       "      <th></th>\n",
       "      <th>H</th>\n",
       "      <th>AB</th>\n",
       "      <th>average</th>\n",
       "      <th>eb_estimate</th>\n",
       "      <th>alpha</th>\n",
       "      <th>beta</th>\n",
       "    </tr>\n",
       "    <tr>\n",
       "      <th>playerID</th>\n",
       "      <th></th>\n",
       "      <th></th>\n",
       "      <th></th>\n",
       "      <th></th>\n",
       "      <th></th>\n",
       "      <th></th>\n",
       "    </tr>\n",
       "  </thead>\n",
       "  <tbody>\n",
       "    <tr>\n",
       "      <td>aaronha01</td>\n",
       "      <td>3771</td>\n",
       "      <td>12364</td>\n",
       "      <td>0.304998</td>\n",
       "      <td>0.304289</td>\n",
       "      <td>3813.899</td>\n",
       "      <td>8719.901</td>\n",
       "    </tr>\n",
       "    <tr>\n",
       "      <td>aaronto01</td>\n",
       "      <td>216</td>\n",
       "      <td>944</td>\n",
       "      <td>0.228814</td>\n",
       "      <td>0.232447</td>\n",
       "      <td>258.899</td>\n",
       "      <td>854.901</td>\n",
       "    </tr>\n",
       "    <tr>\n",
       "      <td>abadan01</td>\n",
       "      <td>2</td>\n",
       "      <td>21</td>\n",
       "      <td>0.095238</td>\n",
       "      <td>0.235320</td>\n",
       "      <td>44.899</td>\n",
       "      <td>145.901</td>\n",
       "    </tr>\n",
       "    <tr>\n",
       "      <td>abadijo01</td>\n",
       "      <td>11</td>\n",
       "      <td>49</td>\n",
       "      <td>0.224490</td>\n",
       "      <td>0.246339</td>\n",
       "      <td>53.899</td>\n",
       "      <td>164.901</td>\n",
       "    </tr>\n",
       "    <tr>\n",
       "      <td>abbated01</td>\n",
       "      <td>772</td>\n",
       "      <td>3044</td>\n",
       "      <td>0.253614</td>\n",
       "      <td>0.253562</td>\n",
       "      <td>814.899</td>\n",
       "      <td>2398.901</td>\n",
       "    </tr>\n",
       "  </tbody>\n",
       "</table>\n",
       "</div>"
      ],
      "text/plain": [
       "              H     AB   average  eb_estimate     alpha      beta\n",
       "playerID                                                         \n",
       "aaronha01  3771  12364  0.304998     0.304289  3813.899  8719.901\n",
       "aaronto01   216    944  0.228814     0.232447   258.899   854.901\n",
       "abadan01      2     21  0.095238     0.235320    44.899   145.901\n",
       "abadijo01    11     49  0.224490     0.246339    53.899   164.901\n",
       "abbated01   772   3044  0.253614     0.253562   814.899  2398.901"
      ]
     },
     "execution_count": 15,
     "metadata": {},
     "output_type": "execute_result"
    }
   ],
   "source": [
    "# Load pitchers dataset\n",
    "pitchers = pd.read_csv('data/Pitching.csv')\n",
    "\n",
    "\n",
    "# Filter for three or more games thrown \n",
    "pitchers = pitchers[pitchers['G'] > 3]\n",
    "pitchers_id = pitchers['playerID']\n",
    "\n",
    "# Load Lahman batting dataset\n",
    "batting = pd.read_csv('data/batting.csv')\n",
    "\n",
    "# Filter our pitchers \n",
    "batting = batting[~batting['playerID'].isin(pitchers_id)]\n",
    "\n",
    "# Filter dataset\n",
    "batting = batting[batting['AB'] > 0]\n",
    "batting_new = batting.groupby('playerID')[['H', 'AB']].sum()\n",
    "batting_new['average'] = batting_new['H'] / batting_new['AB']\n",
    "\n",
    "# alpha_0 and beta_0 from MLE \n",
    "alpha_0 = 42.899\n",
    "beta_0 = 126.901\n",
    "\n",
    "# Create eb_estimates column\n",
    "batting_new['eb_estimate'] = (batting_new['H'] + alpha_0) / (batting_new['AB'] + alpha_0 + beta_0)\n",
    "\n",
    "# Add alpha and beta columns to batting_new\n",
    "batting_new['alpha'] = alpha_0 + batting_new['H']\n",
    "batting_new['beta'] = beta_0 + batting_new['AB'] - batting_new['H']\n",
    "batting_new.head()"
   ]
  },
  {
   "cell_type": "markdown",
   "metadata": {},
   "source": [
    "### 3. Comparing Posterior Distributions "
   ]
  },
  {
   "cell_type": "markdown",
   "metadata": {},
   "source": [
    "Let's get the data for Hank Aaron and Mike Piazza: "
   ]
  },
  {
   "cell_type": "code",
   "execution_count": 18,
   "metadata": {},
   "outputs": [
    {
     "data": {
      "text/html": [
       "<div>\n",
       "<style scoped>\n",
       "    .dataframe tbody tr th:only-of-type {\n",
       "        vertical-align: middle;\n",
       "    }\n",
       "\n",
       "    .dataframe tbody tr th {\n",
       "        vertical-align: top;\n",
       "    }\n",
       "\n",
       "    .dataframe thead th {\n",
       "        text-align: right;\n",
       "    }\n",
       "</style>\n",
       "<table border=\"1\" class=\"dataframe\">\n",
       "  <thead>\n",
       "    <tr style=\"text-align: right;\">\n",
       "      <th></th>\n",
       "      <th>H</th>\n",
       "      <th>AB</th>\n",
       "      <th>average</th>\n",
       "      <th>eb_estimate</th>\n",
       "      <th>alpha</th>\n",
       "      <th>beta</th>\n",
       "    </tr>\n",
       "    <tr>\n",
       "      <th>playerID</th>\n",
       "      <th></th>\n",
       "      <th></th>\n",
       "      <th></th>\n",
       "      <th></th>\n",
       "      <th></th>\n",
       "      <th></th>\n",
       "    </tr>\n",
       "  </thead>\n",
       "  <tbody>\n",
       "    <tr>\n",
       "      <td>aaronha01</td>\n",
       "      <td>3771</td>\n",
       "      <td>12364</td>\n",
       "      <td>0.304998</td>\n",
       "      <td>0.304289</td>\n",
       "      <td>3813.899</td>\n",
       "      <td>8719.901</td>\n",
       "    </tr>\n",
       "    <tr>\n",
       "      <td>piazzmi01</td>\n",
       "      <td>2127</td>\n",
       "      <td>6911</td>\n",
       "      <td>0.307770</td>\n",
       "      <td>0.306448</td>\n",
       "      <td>2169.899</td>\n",
       "      <td>4910.901</td>\n",
       "    </tr>\n",
       "  </tbody>\n",
       "</table>\n",
       "</div>"
      ],
      "text/plain": [
       "              H     AB   average  eb_estimate     alpha      beta\n",
       "playerID                                                         \n",
       "aaronha01  3771  12364  0.304998     0.304289  3813.899  8719.901\n",
       "piazzmi01  2127   6911  0.307770     0.306448  2169.899  4910.901"
      ]
     },
     "execution_count": 18,
     "metadata": {},
     "output_type": "execute_result"
    }
   ],
   "source": [
    "# Hank Aaron and Mike Piazza data\n",
    "two_players = batting_new.loc[['aaronha01', 'piazzmi01']]\n",
    "two_players"
   ]
  },
  {
   "cell_type": "markdown",
   "metadata": {},
   "source": [
    "We see that Mike Piazza has a slightly higher batting average and higher `eb_estimate`.  But is his *true* probability of getting a hit higher? To answer this, let's look at the posterior distributions:"
   ]
  },
  {
   "cell_type": "code",
   "execution_count": 19,
   "metadata": {},
   "outputs": [],
   "source": [
    "# Beta distribution function \n",
    "def plot_beta(x_range, a, b, mu=0, sigma=1, cdf=False, **kwargs):\n",
    "    x = x_range\n",
    "    if cdf:\n",
    "        y = beta.cdf(x, a, b, mu, sigma)\n",
    "    else: \n",
    "        y = beta.pdf(x, a, b, mu, sigma)\n",
    "    plt.plot(x, y, **kwargs)"
   ]
  },
  {
   "cell_type": "code",
   "execution_count": 36,
   "metadata": {},
   "outputs": [
    {
     "data": {
      "image/png": "[encoded data removed]",
      "text/plain": [
       "<Figure size 432x288 with 1 Axes>"
      ]
     },
     "metadata": {
      "needs_background": "light"
     },
     "output_type": "display_data"
    }
   ],
   "source": [
    "# Posterior distributions for Mike Piazza and Hank Aaron \n",
    "x = np.linspace(0, 1, 5000)\n",
    "plot_beta(x, 3814, 8720, 0, 1, color='red', lw=2, ls='-', alpha=0.7, label= 'Hank Aaron')\n",
    "plot_beta(x, 2170, 4911, 0, 1, color='blue', lw=2, ls='-', alpha=0.7, label= 'Mike Piazza')\n",
    "plt.xlim([0.28, 0.33])\n",
    "plt.legend()\n",
    "plt.show()"
   ]
  },
  {
   "cell_type": "markdown",
   "metadata": {},
   "source": [
    "These posterior distributions are a probabilistic representation of the *uncertainty* in each estimate.  If we ask what the probability is that Mike Piazza is better, we are asking \"if I pick a random draw from Piazza's distribution and a random draw from Aaron's, what's the probability Piazza's is higher?\"  In order to determine this, we need to know the probability that one beta distribution is greater than another.  There are four routes that are common lines of attack in such a Bayesian problem: \n",
    "\n",
    "- Simulation of posterior draws\n",
    "- Numerical integration \n",
    "- Closed-form solution\n",
    "- Closed-form approximation "
   ]
  },
  {
   "cell_type": "markdown",
   "metadata": {},
   "source": [
    "### 4. Simulation of Posterior Draws"
   ]
  },
  {
   "cell_type": "markdown",
   "metadata": {},
   "source": [
    "If we don't want to do any math, we can just simulate! We use each players alpha and beta values, draw a million items from each of them using random beta values, and compare the results: "
   ]
  },
  {
   "cell_type": "code",
   "execution_count": 24,
   "metadata": {},
   "outputs": [
    {
     "name": "stdout",
     "output_type": "stream",
     "text": [
      "Probability that Piazza is better than Aaron: 62.2907%\n"
     ]
    }
   ],
   "source": [
    "# Simulate 1,000,000 draws from a beta distribution for Piazza and Aaron\n",
    "num_trials = 1000000\n",
    "piazza_sim = np.random.beta(2170, 4911, size=num_trials)\n",
    "aaron_sim = np.random.beta(3814, 8720, size=num_trials)\n",
    "sim = (piazza_sim > aaron_sim).mean()\n",
    "print(f'Probability that Piazza is better than Aaron: {sim * 100}%')"
   ]
  },
  {
   "cell_type": "markdown",
   "metadata": {},
   "source": [
    "### 5. Integration/Closed-Form Solution "
   ]
  },
  {
   "cell_type": "markdown",
   "metadata": {},
   "source": [
    "Integration and a closed-form solution are two other techniques we can use.  These are a bit difficult for me to translate into Python from R, so the reader of this can find these on page 51 of the textbook. "
   ]
  },
  {
   "cell_type": "markdown",
   "metadata": {},
   "source": [
    "### 6. Closed-Form Approximation "
   ]
  },
  {
   "cell_type": "markdown",
   "metadata": {},
   "source": [
    "When alpha and beta are large, the distribution starts looking like a normal distribution, so it can be closely approximated.  The probability of one normally-distributed variable being greater than another is much easier to calculate than the beta distribution!"
   ]
  },
  {
   "cell_type": "code",
   "execution_count": 34,
   "metadata": {},
   "outputs": [],
   "source": [
    "# Closed-form approximation \n",
    "from scipy.stats import norm\n",
    "def h_approx(alpha_a, beta_a, alpha_b, beta_b):\n",
    "    u1 = alpha_a / (alpha_a + beta_a)\n",
    "    u2 = alpha_b / (alpha_b + beta_b)\n",
    "    var1 = (alpha_a * beta_a) / ((alpha_a + beta_a)**2 * (alpha_a + beta_a + 1))\n",
    "    var2 = (alpha_b * beta_b) / ((alpha_b + beta_b)**2 * (alpha_b + beta_b + 1))\n",
    "    return norm.cdf(0, u2 - u1, np.sqrt(var1 + var2))"
   ]
  },
  {
   "cell_type": "code",
   "execution_count": 35,
   "metadata": {},
   "outputs": [
    {
     "data": {
      "text/plain": [
       "0.6238595166931464"
      ]
     },
     "execution_count": 35,
     "metadata": {},
     "output_type": "execute_result"
    }
   ],
   "source": [
    "h_approx(2170, 4911, 3814, 8720)"
   ]
  },
  {
   "cell_type": "markdown",
   "metadata": {},
   "source": [
    "This gives us an easy-to-calculate, fast approximation.  The disadvantage is that for low alpha or beta, the normal approximation to the beta is a poor fit.  Also, this estimation is systematically *biased*: in some cases, it will always give too high an answer, and in some cases, too low.  But using our prior parameters here for alpha and beta, we are safe using it.  "
   ]
  },
  {
   "cell_type": "markdown",
   "metadata": {},
   "source": [
    "### 7. Confidence and Credible Intervals "
   ]
  },
  {
   "cell_type": "markdown",
   "metadata": {},
   "source": [
    "In classical statistics, when we want to \"compare two proportions\", the common method is to calculate the Pearson's chi-squared statistic for a contingency table.  Here instead, we will use empirical Bayes to compute the credible interval about the *difference* in these two players.  We could do this with simulation or integration, but we will use our normal approximation approach: "
   ]
  },
  {
   "cell_type": "code",
   "execution_count": 47,
   "metadata": {},
   "outputs": [],
   "source": [
    "# Credible interval approximation\n",
    "def credible_interval_approximation(a, b, c, d):\n",
    "    u1 = a / (a + b)\n",
    "    u2 = c / (c + d)\n",
    "    var1 = a * b / ((a + b) ** 2 * (a + b + 1))\n",
    "    var2 = c * d / ((c + d) ** 2 * (c + d + 1))\n",
    "    mu_diff = u2 - u1\n",
    "    sd_diff = np.sqrt(var1 + var2)\n",
    "    \n",
    "    values = {'posterior': norm.cdf(0, mu_diff, sd_diff),\n",
    "              'estimate': mu_diff,\n",
    "              'conf.low': norm.ppf(.025, mu_diff, sd_diff),\n",
    "              'conf.high': norm.ppf(.975, mu_diff, sd_diff)\n",
    "              }\n",
    "    df = pd.DataFrame([values])\n",
    "    return df"
   ]
  },
  {
   "cell_type": "code",
   "execution_count": 48,
   "metadata": {},
   "outputs": [
    {
     "data": {
      "text/html": [
       "<div>\n",
       "<style scoped>\n",
       "    .dataframe tbody tr th:only-of-type {\n",
       "        vertical-align: middle;\n",
       "    }\n",
       "\n",
       "    .dataframe tbody tr th {\n",
       "        vertical-align: top;\n",
       "    }\n",
       "\n",
       "    .dataframe thead th {\n",
       "        text-align: right;\n",
       "    }\n",
       "</style>\n",
       "<table border=\"1\" class=\"dataframe\">\n",
       "  <thead>\n",
       "    <tr style=\"text-align: right;\">\n",
       "      <th></th>\n",
       "      <th>posterior</th>\n",
       "      <th>estimate</th>\n",
       "      <th>conf.low</th>\n",
       "      <th>conf.high</th>\n",
       "    </tr>\n",
       "  </thead>\n",
       "  <tbody>\n",
       "    <tr>\n",
       "      <td>0</td>\n",
       "      <td>0.62386</td>\n",
       "      <td>-0.002162</td>\n",
       "      <td>-0.015584</td>\n",
       "      <td>0.011261</td>\n",
       "    </tr>\n",
       "  </tbody>\n",
       "</table>\n",
       "</div>"
      ],
      "text/plain": [
       "   posterior  estimate  conf.low  conf.high\n",
       "0    0.62386 -0.002162 -0.015584   0.011261"
      ]
     },
     "execution_count": 48,
     "metadata": {},
     "output_type": "execute_result"
    }
   ],
   "source": [
    "credible_interval_approximation(2170, 4911, 3814, 8720)"
   ]
  },
  {
   "cell_type": "markdown",
   "metadata": {},
   "source": [
    "This isn't particularly exciting for the Piazza/Aarons comparison.  We see that it is very close to the confidence intervals we calculated before this.  So let's select 20 random players and compare them to Mike Piazza and ask, "
   ]
  }
 ],
 "metadata": {
  "kernelspec": {
   "display_name": "Python 3",
   "language": "python",
   "name": "python3"
  },
  "language_info": {
   "codemirror_mode": {
    "name": "ipython",
    "version": 3
   },
   "file_extension": ".py",
   "mimetype": "text/x-python",
   "name": "python",
   "nbconvert_exporter": "python",
   "pygments_lexer": "ipython3",
   "version": "3.7.4"
  }
 },
 "nbformat": 4,
 "nbformat_minor": 2
}
