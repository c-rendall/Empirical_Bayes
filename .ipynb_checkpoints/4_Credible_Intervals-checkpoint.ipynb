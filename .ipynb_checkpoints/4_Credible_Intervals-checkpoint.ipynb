{
 "cells": [
  {
   "cell_type": "code",
   "execution_count": 1,
   "metadata": {},
   "outputs": [],
   "source": [
    "import numpy as np\n",
    "import pandas as pd\n",
    "import matplotlib.pyplot as plt\n",
    "import seaborn as sns\n",
    "from scipy.stats import beta, binom\n",
    "\n",
    "plt.style.use('ggplot')"
   ]
  },
  {
   "cell_type": "markdown",
   "metadata": {},
   "source": [
    "### 1. Introduction "
   ]
  },
  {
   "cell_type": "markdown",
   "metadata": {},
   "source": [
    "In the last section, we used empirical Bayes to give us a reasonable approximatiof of a player's batting average when we had proportions that we couldn't trust, like 0/2.  In this section, we'll go a step further and estimate the uncertainty present in our point estimate.  In many cases, statisticians would use a binomial proportion confidence interval here, but this doesn't bring in information from our whole dataset the way that empirical Bayes does.  For example, the confidence interval for someone who gets 1 hit out of 3 at-bats would be (0.008, 0.906), which can't possibly be correct, since we know the true batting average is much closer to about .2-.3.  "
   ]
  },
  {
   "cell_type": "markdown",
   "metadata": {},
   "source": [
    "### 2. Setup "
   ]
  },
  {
   "cell_type": "markdown",
   "metadata": {},
   "source": [
    "Let's load the same dataset as before and keep our estimated alpha_0 and beta_0 values from the previous notebook: "
   ]
  },
  {
   "cell_type": "code",
   "execution_count": 35,
   "metadata": {},
   "outputs": [
    {
     "data": {
      "text/html": [
       "<div>\n",
       "<style scoped>\n",
       "    .dataframe tbody tr th:only-of-type {\n",
       "        vertical-align: middle;\n",
       "    }\n",
       "\n",
       "    .dataframe tbody tr th {\n",
       "        vertical-align: top;\n",
       "    }\n",
       "\n",
       "    .dataframe thead th {\n",
       "        text-align: right;\n",
       "    }\n",
       "</style>\n",
       "<table border=\"1\" class=\"dataframe\">\n",
       "  <thead>\n",
       "    <tr style=\"text-align: right;\">\n",
       "      <th></th>\n",
       "      <th>H</th>\n",
       "      <th>AB</th>\n",
       "      <th>average</th>\n",
       "      <th>eb_estimate</th>\n",
       "    </tr>\n",
       "    <tr>\n",
       "      <th>playerID</th>\n",
       "      <th></th>\n",
       "      <th></th>\n",
       "      <th></th>\n",
       "      <th></th>\n",
       "    </tr>\n",
       "  </thead>\n",
       "  <tbody>\n",
       "    <tr>\n",
       "      <td>aaronha01</td>\n",
       "      <td>3771</td>\n",
       "      <td>12364</td>\n",
       "      <td>0.304998</td>\n",
       "      <td>0.303729</td>\n",
       "    </tr>\n",
       "    <tr>\n",
       "      <td>aaronto01</td>\n",
       "      <td>216</td>\n",
       "      <td>944</td>\n",
       "      <td>0.228814</td>\n",
       "      <td>0.237398</td>\n",
       "    </tr>\n",
       "    <tr>\n",
       "      <td>abadan01</td>\n",
       "      <td>2</td>\n",
       "      <td>21</td>\n",
       "      <td>0.095238</td>\n",
       "      <td>0.250876</td>\n",
       "    </tr>\n",
       "    <tr>\n",
       "      <td>abadijo01</td>\n",
       "      <td>11</td>\n",
       "      <td>49</td>\n",
       "      <td>0.224490</td>\n",
       "      <td>0.255720</td>\n",
       "    </tr>\n",
       "    <tr>\n",
       "      <td>abbated01</td>\n",
       "      <td>772</td>\n",
       "      <td>3044</td>\n",
       "      <td>0.253614</td>\n",
       "      <td>0.254286</td>\n",
       "    </tr>\n",
       "  </tbody>\n",
       "</table>\n",
       "</div>"
      ],
      "text/plain": [
       "              H     AB   average  eb_estimate\n",
       "playerID                                     \n",
       "aaronha01  3771  12364  0.304998     0.303729\n",
       "aaronto01   216    944  0.228814     0.237398\n",
       "abadan01      2     21  0.095238     0.250876\n",
       "abadijo01    11     49  0.224490     0.255720\n",
       "abbated01   772   3044  0.253614     0.254286"
      ]
     },
     "execution_count": 35,
     "metadata": {},
     "output_type": "execute_result"
    }
   ],
   "source": [
    "# Load pitchers dataset\n",
    "pitchers = pd.read_csv('data/Pitching.csv')\n",
    "\n",
    "# Filter for three or more games thrown \n",
    "pitchers = pitchers[pitchers['G'] > 3]\n",
    "pitchers_id = pitchers['playerID']\n",
    "\n",
    "# Load Lahman batting dataset\n",
    "batting = pd.read_csv('data/batting.csv')\n",
    "\n",
    "# Filter our pitchers \n",
    "batting = batting[~batting['playerID'].isin(pitchers_id)]\n",
    "\n",
    "# Filter dataset\n",
    "batting = batting[batting['AB'] > 0]\n",
    "batting_new = batting.groupby('playerID')[['H', 'AB']].sum()\n",
    "batting_new['average'] = batting_new['H'] / batting_new['AB']\n",
    "\n",
    "# alpha_0 and beta_0 from MLE \n",
    "alpha_0 = 93.27\n",
    "beta_0 = 265.48\n",
    "\n",
    "# Create eb_estimates column\n",
    "batting_new['eb_estimate'] = (batting_new['H'] + alpha_0) / (batting_new['AB'] + alpha_0 + beta_0)\n",
    "batting_new.head()"
   ]
  },
  {
   "cell_type": "markdown",
   "metadata": {},
   "source": [
    "This was the final result of our previous notebook.  The column `eb_estimate` represents a *point-estimate* of the player's batting average.  However, there is still uncertainty in the empirical Bayes estimate, and the uncertainty is *very different for different players*, with more uncertainty for players with fewer at-bats, and less for players with many at-bats.  We can make our analysis more powerful by building credible intervals in addition to these point estimates. "
   ]
  },
  {
   "cell_type": "markdown",
   "metadata": {},
   "source": [
    "### 3. Posterior Distribution "
   ]
  },
  {
   "cell_type": "markdown",
   "metadata": {},
   "source": [
    "With empirical Bayes estimation, we are computing two new values, $\\alpha_{1}$ and $\\beta_{1}$ for each player.  These are the posterior shape parameters for each player's distribution, after the prior has been updated based on each player's evidence.  Since we have these two parameters for each player's beta distribution, we can visualize the posterior density for each: "
   ]
  },
  {
   "cell_type": "code",
   "execution_count": 36,
   "metadata": {},
   "outputs": [
    {
     "data": {
      "text/html": [
       "<div>\n",
       "<style scoped>\n",
       "    .dataframe tbody tr th:only-of-type {\n",
       "        vertical-align: middle;\n",
       "    }\n",
       "\n",
       "    .dataframe tbody tr th {\n",
       "        vertical-align: top;\n",
       "    }\n",
       "\n",
       "    .dataframe thead th {\n",
       "        text-align: right;\n",
       "    }\n",
       "</style>\n",
       "<table border=\"1\" class=\"dataframe\">\n",
       "  <thead>\n",
       "    <tr style=\"text-align: right;\">\n",
       "      <th></th>\n",
       "      <th>H</th>\n",
       "      <th>AB</th>\n",
       "      <th>average</th>\n",
       "      <th>eb_estimate</th>\n",
       "      <th>alpha</th>\n",
       "      <th>beta</th>\n",
       "    </tr>\n",
       "    <tr>\n",
       "      <th>playerID</th>\n",
       "      <th></th>\n",
       "      <th></th>\n",
       "      <th></th>\n",
       "      <th></th>\n",
       "      <th></th>\n",
       "      <th></th>\n",
       "    </tr>\n",
       "  </thead>\n",
       "  <tbody>\n",
       "    <tr>\n",
       "      <td>aaronha01</td>\n",
       "      <td>3771</td>\n",
       "      <td>12364</td>\n",
       "      <td>0.304998</td>\n",
       "      <td>0.303729</td>\n",
       "      <td>3864.27</td>\n",
       "      <td>8858.48</td>\n",
       "    </tr>\n",
       "    <tr>\n",
       "      <td>aaronto01</td>\n",
       "      <td>216</td>\n",
       "      <td>944</td>\n",
       "      <td>0.228814</td>\n",
       "      <td>0.237398</td>\n",
       "      <td>309.27</td>\n",
       "      <td>993.48</td>\n",
       "    </tr>\n",
       "    <tr>\n",
       "      <td>abadan01</td>\n",
       "      <td>2</td>\n",
       "      <td>21</td>\n",
       "      <td>0.095238</td>\n",
       "      <td>0.250876</td>\n",
       "      <td>95.27</td>\n",
       "      <td>284.48</td>\n",
       "    </tr>\n",
       "    <tr>\n",
       "      <td>abadijo01</td>\n",
       "      <td>11</td>\n",
       "      <td>49</td>\n",
       "      <td>0.224490</td>\n",
       "      <td>0.255720</td>\n",
       "      <td>104.27</td>\n",
       "      <td>303.48</td>\n",
       "    </tr>\n",
       "    <tr>\n",
       "      <td>abbated01</td>\n",
       "      <td>772</td>\n",
       "      <td>3044</td>\n",
       "      <td>0.253614</td>\n",
       "      <td>0.254286</td>\n",
       "      <td>865.27</td>\n",
       "      <td>2537.48</td>\n",
       "    </tr>\n",
       "  </tbody>\n",
       "</table>\n",
       "</div>"
      ],
      "text/plain": [
       "              H     AB   average  eb_estimate    alpha     beta\n",
       "playerID                                                       \n",
       "aaronha01  3771  12364  0.304998     0.303729  3864.27  8858.48\n",
       "aaronto01   216    944  0.228814     0.237398   309.27   993.48\n",
       "abadan01      2     21  0.095238     0.250876    95.27   284.48\n",
       "abadijo01    11     49  0.224490     0.255720   104.27   303.48\n",
       "abbated01   772   3044  0.253614     0.254286   865.27  2537.48"
      ]
     },
     "execution_count": 36,
     "metadata": {},
     "output_type": "execute_result"
    }
   ],
   "source": [
    "# Add alpha and beta columns to batting_new\n",
    "batting_new['alpha'] = alpha_0 + batting_new['H']\n",
    "batting_new['beta'] = beta_0 + batting_new['AB'] - batting_new['H']\n",
    "batting_new.head()"
   ]
  },
  {
   "cell_type": "markdown",
   "metadata": {},
   "source": [
    "And let's plot a few selected players: "
   ]
  },
  {
   "cell_type": "code",
   "execution_count": 37,
   "metadata": {},
   "outputs": [],
   "source": [
    "def plot_beta(x_range, a, b, mu=0, sigma=1, cdf=False, **kwargs):\n",
    "    x = x_range\n",
    "    if cdf:\n",
    "        y = beta.cdf(x, a, b, mu, sigma)\n",
    "    else: \n",
    "        y = beta.pdf(x, a, b, mu, sigma)\n",
    "    plt.plot(x, y, **kwargs)"
   ]
  },
  {
   "cell_type": "code",
   "execution_count": 38,
   "metadata": {},
   "outputs": [
    {
     "data": {
      "image/png": "[encoded data removed]",
      "text/plain": [
       "<Figure size 432x288 with 1 Axes>"
      ]
     },
     "metadata": {
      "needs_background": "light"
     },
     "output_type": "display_data"
    },
    {
     "data": {
      "image/png": "[encoded data removed]",
      "text/plain": [
       "<Figure size 432x288 with 1 Axes>"
      ]
     },
     "metadata": {
      "needs_background": "light"
     },
     "output_type": "display_data"
    },
    {
     "data": {
      "image/png": "[encoded data removed]",
      "text/plain": [
       "<Figure size 432x288 with 1 Axes>"
      ]
     },
     "metadata": {
      "needs_background": "light"
     },
     "output_type": "display_data"
    }
   ],
   "source": [
    "# Plot posterior densities for selected players \n",
    "players = ['cobbty01', 'jacksjo01', 'aaronha01']\n",
    "for player in players: \n",
    "    df = batting_new.loc[player]\n",
    "    x = np.linspace(0, 1, 5000)\n",
    "    plot_beta(x, df['alpha'], df['beta'], 0, 1, lw=2, ls='-', alpha=0.7)\n",
    "    plt.xlim([0.15, 0.40])\n",
    "    plt.show()"
   ]
  },
  {
   "cell_type": "markdown",
   "metadata": {},
   "source": [
    "These represent our probability distribution of what the player's batting average might be after updating based on that player's performance.  The empirical Bayes estimate from the last notebook is just the mode of the distribution, but the distribution is what we are really estimating. "
   ]
  },
  {
   "cell_type": "markdown",
   "metadata": {},
   "source": [
    "### 4. Credible Intervals"
   ]
  },
  {
   "cell_type": "markdown",
   "metadata": {},
   "source": [
    "A credible interval shows which percentage (e.g. 95%) of the posterior distribution lies within a particular region.  We can compute two new columns with the edges of the credible interval for the 1998 Yankees team, as an example: "
   ]
  },
  {
   "cell_type": "code",
   "execution_count": 39,
   "metadata": {},
   "outputs": [
    {
     "data": {
      "text/html": [
       "<div>\n",
       "<style scoped>\n",
       "    .dataframe tbody tr th:only-of-type {\n",
       "        vertical-align: middle;\n",
       "    }\n",
       "\n",
       "    .dataframe tbody tr th {\n",
       "        vertical-align: top;\n",
       "    }\n",
       "\n",
       "    .dataframe thead th {\n",
       "        text-align: right;\n",
       "    }\n",
       "</style>\n",
       "<table border=\"1\" class=\"dataframe\">\n",
       "  <thead>\n",
       "    <tr style=\"text-align: right;\">\n",
       "      <th></th>\n",
       "      <th>H</th>\n",
       "      <th>AB</th>\n",
       "      <th>average</th>\n",
       "      <th>eb_estimate</th>\n",
       "      <th>alpha</th>\n",
       "      <th>beta</th>\n",
       "      <th>low</th>\n",
       "      <th>high</th>\n",
       "    </tr>\n",
       "    <tr>\n",
       "      <th>playerID</th>\n",
       "      <th></th>\n",
       "      <th></th>\n",
       "      <th></th>\n",
       "      <th></th>\n",
       "      <th></th>\n",
       "      <th></th>\n",
       "      <th></th>\n",
       "      <th></th>\n",
       "    </tr>\n",
       "  </thead>\n",
       "  <tbody>\n",
       "    <tr>\n",
       "      <td>aaronha01</td>\n",
       "      <td>3771</td>\n",
       "      <td>12364</td>\n",
       "      <td>0.304998</td>\n",
       "      <td>0.303729</td>\n",
       "      <td>3864.27</td>\n",
       "      <td>8858.48</td>\n",
       "      <td>0.295768</td>\n",
       "      <td>0.311749</td>\n",
       "    </tr>\n",
       "    <tr>\n",
       "      <td>aaronto01</td>\n",
       "      <td>216</td>\n",
       "      <td>944</td>\n",
       "      <td>0.228814</td>\n",
       "      <td>0.237398</td>\n",
       "      <td>309.27</td>\n",
       "      <td>993.48</td>\n",
       "      <td>0.214690</td>\n",
       "      <td>0.260870</td>\n",
       "    </tr>\n",
       "    <tr>\n",
       "      <td>abadan01</td>\n",
       "      <td>2</td>\n",
       "      <td>21</td>\n",
       "      <td>0.095238</td>\n",
       "      <td>0.250876</td>\n",
       "      <td>95.27</td>\n",
       "      <td>284.48</td>\n",
       "      <td>0.208611</td>\n",
       "      <td>0.295625</td>\n",
       "    </tr>\n",
       "    <tr>\n",
       "      <td>abadijo01</td>\n",
       "      <td>11</td>\n",
       "      <td>49</td>\n",
       "      <td>0.224490</td>\n",
       "      <td>0.255720</td>\n",
       "      <td>104.27</td>\n",
       "      <td>303.48</td>\n",
       "      <td>0.214595</td>\n",
       "      <td>0.299115</td>\n",
       "    </tr>\n",
       "    <tr>\n",
       "      <td>abbated01</td>\n",
       "      <td>772</td>\n",
       "      <td>3044</td>\n",
       "      <td>0.253614</td>\n",
       "      <td>0.254286</td>\n",
       "      <td>865.27</td>\n",
       "      <td>2537.48</td>\n",
       "      <td>0.239795</td>\n",
       "      <td>0.269050</td>\n",
       "    </tr>\n",
       "  </tbody>\n",
       "</table>\n",
       "</div>"
      ],
      "text/plain": [
       "              H     AB   average  eb_estimate    alpha     beta       low  \\\n",
       "playerID                                                                    \n",
       "aaronha01  3771  12364  0.304998     0.303729  3864.27  8858.48  0.295768   \n",
       "aaronto01   216    944  0.228814     0.237398   309.27   993.48  0.214690   \n",
       "abadan01      2     21  0.095238     0.250876    95.27   284.48  0.208611   \n",
       "abadijo01    11     49  0.224490     0.255720   104.27   303.48  0.214595   \n",
       "abbated01   772   3044  0.253614     0.254286   865.27  2537.48  0.239795   \n",
       "\n",
       "               high  \n",
       "playerID             \n",
       "aaronha01  0.311749  \n",
       "aaronto01  0.260870  \n",
       "abadan01   0.295625  \n",
       "abadijo01  0.299115  \n",
       "abbated01  0.269050  "
      ]
     },
     "execution_count": 39,
     "metadata": {},
     "output_type": "execute_result"
    }
   ],
   "source": [
    "# Create two new columns with the edges of the credible interval for the 1998 Yankees\n",
    "from scipy.stats import beta\n",
    "batting_new['low'] = beta.ppf(0.025, batting_new['alpha'], batting_new['beta'])\n",
    "batting_new['high'] = beta.ppf(0.975, batting_new['alpha'], batting_new['beta'])\n",
    "batting_new.head()"
   ]
  },
  {
   "cell_type": "code",
   "execution_count": 40,
   "metadata": {},
   "outputs": [
    {
     "data": {
      "text/html": [
       "<div>\n",
       "<style scoped>\n",
       "    .dataframe tbody tr th:only-of-type {\n",
       "        vertical-align: middle;\n",
       "    }\n",
       "\n",
       "    .dataframe tbody tr th {\n",
       "        vertical-align: top;\n",
       "    }\n",
       "\n",
       "    .dataframe thead th {\n",
       "        text-align: right;\n",
       "    }\n",
       "</style>\n",
       "<table border=\"1\" class=\"dataframe\">\n",
       "  <thead>\n",
       "    <tr style=\"text-align: right;\">\n",
       "      <th></th>\n",
       "      <th>H</th>\n",
       "      <th>AB</th>\n",
       "      <th>average</th>\n",
       "      <th>eb_estimate</th>\n",
       "      <th>alpha</th>\n",
       "      <th>beta</th>\n",
       "      <th>low</th>\n",
       "      <th>high</th>\n",
       "      <th>name</th>\n",
       "    </tr>\n",
       "    <tr>\n",
       "      <th>playerID</th>\n",
       "      <th></th>\n",
       "      <th></th>\n",
       "      <th></th>\n",
       "      <th></th>\n",
       "      <th></th>\n",
       "      <th></th>\n",
       "      <th></th>\n",
       "      <th></th>\n",
       "      <th></th>\n",
       "    </tr>\n",
       "  </thead>\n",
       "  <tbody>\n",
       "    <tr>\n",
       "      <td>brosisc01</td>\n",
       "      <td>1001</td>\n",
       "      <td>3889</td>\n",
       "      <td>0.257393</td>\n",
       "      <td>0.257612</td>\n",
       "      <td>1094.27</td>\n",
       "      <td>3153.48</td>\n",
       "      <td>0.244571</td>\n",
       "      <td>0.270868</td>\n",
       "      <td>Scott Brosius</td>\n",
       "    </tr>\n",
       "    <tr>\n",
       "      <td>jeterde01</td>\n",
       "      <td>3465</td>\n",
       "      <td>11195</td>\n",
       "      <td>0.309513</td>\n",
       "      <td>0.307975</td>\n",
       "      <td>3558.27</td>\n",
       "      <td>7995.48</td>\n",
       "      <td>0.299589</td>\n",
       "      <td>0.316424</td>\n",
       "      <td>Derek Jeter</td>\n",
       "    </tr>\n",
       "    <tr>\n",
       "      <td>knoblch01</td>\n",
       "      <td>1839</td>\n",
       "      <td>6366</td>\n",
       "      <td>0.288878</td>\n",
       "      <td>0.287337</td>\n",
       "      <td>1932.27</td>\n",
       "      <td>4792.48</td>\n",
       "      <td>0.276583</td>\n",
       "      <td>0.298211</td>\n",
       "      <td>Chuck Knoblauch</td>\n",
       "    </tr>\n",
       "    <tr>\n",
       "      <td>martiti02</td>\n",
       "      <td>1925</td>\n",
       "      <td>7111</td>\n",
       "      <td>0.270707</td>\n",
       "      <td>0.270192</td>\n",
       "      <td>2018.27</td>\n",
       "      <td>5451.48</td>\n",
       "      <td>0.260182</td>\n",
       "      <td>0.280320</td>\n",
       "      <td>Tino Martinez</td>\n",
       "    </tr>\n",
       "    <tr>\n",
       "      <td>posadjo01</td>\n",
       "      <td>1664</td>\n",
       "      <td>6092</td>\n",
       "      <td>0.273145</td>\n",
       "      <td>0.272413</td>\n",
       "      <td>1757.27</td>\n",
       "      <td>4693.48</td>\n",
       "      <td>0.261617</td>\n",
       "      <td>0.283343</td>\n",
       "      <td>Jorge Posada</td>\n",
       "    </tr>\n",
       "  </tbody>\n",
       "</table>\n",
       "</div>"
      ],
      "text/plain": [
       "              H     AB   average  eb_estimate    alpha     beta       low  \\\n",
       "playerID                                                                    \n",
       "brosisc01  1001   3889  0.257393     0.257612  1094.27  3153.48  0.244571   \n",
       "jeterde01  3465  11195  0.309513     0.307975  3558.27  7995.48  0.299589   \n",
       "knoblch01  1839   6366  0.288878     0.287337  1932.27  4792.48  0.276583   \n",
       "martiti02  1925   7111  0.270707     0.270192  2018.27  5451.48  0.260182   \n",
       "posadjo01  1664   6092  0.273145     0.272413  1757.27  4693.48  0.261617   \n",
       "\n",
       "               high             name  \n",
       "playerID                              \n",
       "brosisc01  0.270868    Scott Brosius  \n",
       "jeterde01  0.316424      Derek Jeter  \n",
       "knoblch01  0.298211  Chuck Knoblauch  \n",
       "martiti02  0.280320    Tino Martinez  \n",
       "posadjo01  0.283343     Jorge Posada  "
      ]
     },
     "execution_count": 40,
     "metadata": {},
     "output_type": "execute_result"
    }
   ],
   "source": [
    "yankees = ['brosisc01', 'jeterde01', 'knoblch01', 'martiti02', 'posadjo01', 'strawda01', 'willibe02']\n",
    "names = ['Scott Brosius', 'Derek Jeter', 'Chuck Knoblauch', 'Tino Martinez', 'Jorge Posada',\n",
    "                               'Darryl Strawberry','Bernie Williams']\n",
    "yankees1998 = batting_new.loc[yankees]\n",
    "yankees1998['name'] = names\n",
    "yankees1998.head()"
   ]
  },
  {
   "cell_type": "code",
   "execution_count": 64,
   "metadata": {},
   "outputs": [
    {
     "data": {
      "image/png": "[encoded data removed]",
      "text/plain": [
       "<Figure size 432x288 with 1 Axes>"
      ]
     },
     "metadata": {
      "needs_background": "light"
     },
     "output_type": "display_data"
    }
   ],
   "source": [
    "xerr = yankees1998['high'] - yankees1998['low']\n",
    "plt.errorbar(yankees1998['eb_estimate'], yankees1998['name'], xerr=xerr, \n",
    "             lolims=lolims, uplims=uplims, fmt='.k')\n",
    "plt.xlim([0.23, 0.35])\n",
    "plt.xlabel('Estimated batting average (w/ 95% interval)')\n",
    "plt.ylabel('Player')\n",
    "plt.show()"
   ]
  },
  {
   "cell_type": "markdown",
   "metadata": {},
   "source": [
    "### 5. Credible Intervals and Confidence Intervals "
   ]
  },
  {
   "cell_type": "markdown",
   "metadata": {},
   "source": [
    "Posterior credible intervals are *similar* to frequentist confidence intervals, but are not the same thing.  Frequentists treat the true parameter as fixed, while Bayesians treat it as a probability distribution.  But there's also a practical difference: credible intervals take prior information into account. \n",
    "\n",
    "If we took 20 random players and calculated confidence intervals and credible intervals for both, if there's enough information, the two are nearly identical.  But in the case where there is not enough information, the credible interval is much narrower than the confidence interval, which reflects our prior information being incorporated and giving us a tighter bound on the possible values.  "
   ]
  }
 ],
 "metadata": {
  "kernelspec": {
   "display_name": "Python 3",
   "language": "python",
   "name": "python3"
  },
  "language_info": {
   "codemirror_mode": {
    "name": "ipython",
    "version": 3
   },
   "file_extension": ".py",
   "mimetype": "text/x-python",
   "name": "python",
   "nbconvert_exporter": "python",
   "pygments_lexer": "ipython3",
   "version": "3.7.4"
  }
 },
 "nbformat": 4,
 "nbformat_minor": 2
}
