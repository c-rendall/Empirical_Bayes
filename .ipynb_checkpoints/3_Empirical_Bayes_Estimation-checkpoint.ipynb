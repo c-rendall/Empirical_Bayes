{
 "cells": [
  {
   "cell_type": "code",
   "execution_count": 2,
   "metadata": {},
   "outputs": [],
   "source": [
    "import numpy as np\n",
    "import pandas as pd\n",
    "import matplotlib.pyplot as plt\n",
    "import seaborn as sns\n",
    "from scipy.stats import beta, binom\n",
    "\n",
    "plt.style.use('ggplot')"
   ]
  },
  {
   "cell_type": "markdown",
   "metadata": {},
   "source": [
    "### 1. Introduction "
   ]
  },
  {
   "cell_type": "markdown",
   "metadata": {},
   "source": [
    "Does 4 out of 10 or 300 out of 1000 sound greater? We obviously would say 4/10 at first, but if we were a baseball recruiter trying to decide which of two potential players is expected to be a better batter, it's much more difficult to decide.  We can use the method of *empirical Bayes estimation*.  when deciding a large number of proportions.  For example, we might have the following: \n",
    "\n",
    "- **An ad campaign**: Which ads have higher click-through? \n",
    "- **A user on a site**: What fraction of user visits are to a particular part of the site? \n",
    "\n",
    "When dealing with pairs of successes/totals, it's easy to get tripped up by uncertainty in low counts.  1/2 is not the same as 50/100! "
   ]
  },
  {
   "cell_type": "markdown",
   "metadata": {},
   "source": [
    "### 2. Lahman Dataset"
   ]
  },
  {
   "cell_type": "markdown",
   "metadata": {},
   "source": [
    "We'll use the Lahman batting dataset to demonstrate this and filter out the pitchers: "
   ]
  },
  {
   "cell_type": "code",
   "execution_count": 3,
   "metadata": {},
   "outputs": [
    {
     "data": {
      "text/html": [
       "<div>\n",
       "<style scoped>\n",
       "    .dataframe tbody tr th:only-of-type {\n",
       "        vertical-align: middle;\n",
       "    }\n",
       "\n",
       "    .dataframe tbody tr th {\n",
       "        vertical-align: top;\n",
       "    }\n",
       "\n",
       "    .dataframe thead th {\n",
       "        text-align: right;\n",
       "    }\n",
       "</style>\n",
       "<table border=\"1\" class=\"dataframe\">\n",
       "  <thead>\n",
       "    <tr style=\"text-align: right;\">\n",
       "      <th></th>\n",
       "      <th>H</th>\n",
       "      <th>AB</th>\n",
       "      <th>average</th>\n",
       "    </tr>\n",
       "    <tr>\n",
       "      <th>playerID</th>\n",
       "      <th></th>\n",
       "      <th></th>\n",
       "      <th></th>\n",
       "    </tr>\n",
       "  </thead>\n",
       "  <tbody>\n",
       "    <tr>\n",
       "      <td>aaronha01</td>\n",
       "      <td>3771</td>\n",
       "      <td>12364</td>\n",
       "      <td>0.304998</td>\n",
       "    </tr>\n",
       "    <tr>\n",
       "      <td>aaronto01</td>\n",
       "      <td>216</td>\n",
       "      <td>944</td>\n",
       "      <td>0.228814</td>\n",
       "    </tr>\n",
       "    <tr>\n",
       "      <td>abadan01</td>\n",
       "      <td>2</td>\n",
       "      <td>21</td>\n",
       "      <td>0.095238</td>\n",
       "    </tr>\n",
       "    <tr>\n",
       "      <td>abadijo01</td>\n",
       "      <td>11</td>\n",
       "      <td>49</td>\n",
       "      <td>0.224490</td>\n",
       "    </tr>\n",
       "    <tr>\n",
       "      <td>abbated01</td>\n",
       "      <td>772</td>\n",
       "      <td>3044</td>\n",
       "      <td>0.253614</td>\n",
       "    </tr>\n",
       "  </tbody>\n",
       "</table>\n",
       "</div>"
      ],
      "text/plain": [
       "              H     AB   average\n",
       "playerID                        \n",
       "aaronha01  3771  12364  0.304998\n",
       "aaronto01   216    944  0.228814\n",
       "abadan01      2     21  0.095238\n",
       "abadijo01    11     49  0.224490\n",
       "abbated01   772   3044  0.253614"
      ]
     },
     "execution_count": 3,
     "metadata": {},
     "output_type": "execute_result"
    }
   ],
   "source": [
    "# Load pitchers dataset\n",
    "pitchers = pd.read_csv('data/Pitching.csv')\n",
    "\n",
    "# Filter for three or more games thrown \n",
    "pitchers = pitchers[pitchers['G'] > 3]\n",
    "pitchers_id = pitchers['playerID']\n",
    "\n",
    "# Load Lahman batting dataset\n",
    "batting = pd.read_csv('data/batting.csv')\n",
    "\n",
    "# Filter our pitchers \n",
    "batting = batting[~batting['playerID'].isin(pitchers_id)]\n",
    "\n",
    "# Filter dataset\n",
    "batting = batting[batting['AB'] > 0]\n",
    "batting_new = batting.groupby('playerID')[['H', 'AB']].sum()\n",
    "batting_new['average'] = batting_new['H'] / batting_new['AB']\n",
    "batting_new.head()"
   ]
  },
  {
   "cell_type": "markdown",
   "metadata": {},
   "source": [
    "### 3. Estimate a Prior"
   ]
  },
  {
   "cell_type": "markdown",
   "metadata": {},
   "source": [
    "The first step of empirical Bayes estimation is to estimate a beta prior using this data.  If we have a lot of observations, we can get a good estimate that doesn't depend much on any one individual.  Empirical Bayes is an *approximation* to more exact Bayesian methods.  Let's check and see what our distribution looks like for players with more than 500 at-bats: "
   ]
  },
  {
   "cell_type": "code",
   "execution_count": 4,
   "metadata": {},
   "outputs": [
    {
     "name": "stderr",
     "output_type": "stream",
     "text": [
      "/opt/anaconda3/lib/python3.7/site-packages/scipy/stats/stats.py:1713: FutureWarning: Using a non-tuple sequence for multidimensional indexing is deprecated; use `arr[tuple(seq)]` instead of `arr[seq]`. In the future this will be interpreted as an array index, `arr[np.array(seq)]`, which will result either in an error or a different result.\n",
      "  return np.add.reduce(sorted[indexer] * weights, axis=axis) / sumval\n"
     ]
    },
    {
     "data": {
      "image/png": "[encoded data removed]",
      "text/plain": [
       "<Figure size 432x288 with 1 Axes>"
      ]
     },
     "metadata": {
      "needs_background": "light"
     },
     "output_type": "display_data"
    }
   ],
   "source": [
    "# Histogram of players with over 500 at-bats\n",
    "over_500 = batting_new[batting_new['AB'] > 500]\n",
    "sns.distplot(over_500['average'], kde=False);"
   ]
  },
  {
   "cell_type": "markdown",
   "metadata": {},
   "source": [
    "This plot includes pitchers, so it looks slightly different at the tails compared to the one in the book, since many pitchers have lower-than-average batting averages.  In any case, we can use a beta distribution for our prior here.  We want to fit the following model: \n",
    "\n",
    "X ~ Beta($\\alpha_{0}, \\beta_{0}$)\n",
    "\n",
    "We just need to pick an alpha and beta to serve as our \"hyperparameters\", which we can find by using maximum likelihood estimation: "
   ]
  },
  {
   "cell_type": "code",
   "execution_count": 5,
   "metadata": {},
   "outputs": [],
   "source": [
    "from scipy.special import gammaln\n",
    "\n",
    "def loglike_betabinom(params, *args):\n",
    "\n",
    "    a, b = params[0], params[1]\n",
    "    k = args[0] # the OVERALL conversions\n",
    "    n = args[1] # the number of at-bats (AE)\n",
    "\n",
    "    logpdf = gammaln(n+1) + gammaln(k+a) + gammaln(n-k+b) + gammaln(a+b) - \\\n",
    "     (gammaln(k+1) + gammaln(n-k+1) + gammaln(a) + gammaln(b) + gammaln(n+a+b))\n",
    "\n",
    "    return -np.sum(logpdf) "
   ]
  },
  {
   "cell_type": "code",
   "execution_count": 6,
   "metadata": {},
   "outputs": [
    {
     "name": "stdout",
     "output_type": "stream",
     "text": [
      "      fun: 25199.424691841792\n",
      " hess_inv: <2x2 LbfgsInvHessProduct with dtype=float64>\n",
      "      jac: array([-0.81709004,  0.77488949])\n",
      "  message: b'CONVERGENCE: REL_REDUCTION_OF_F_<=_FACTR*EPSMCH'\n",
      "     nfev: 126\n",
      "      nit: 23\n",
      "   status: 0\n",
      "  success: True\n",
      "        x: array([ 93.27432408, 265.47634946])\n"
     ]
    }
   ],
   "source": [
    "from scipy.optimize import minimize\n",
    "\n",
    "init_params = [1, 10]\n",
    "# note that I am putting 'H' in the args\n",
    "res = minimize(loglike_betabinom, x0=init_params,\n",
    "            args=(over_500['H'], over_500['AB']),\n",
    "            method='L-BFGS-B', options={'disp': True, 'maxiter': 250})\n",
    "print(res)"
   ]
  },
  {
   "cell_type": "code",
   "execution_count": 7,
   "metadata": {},
   "outputs": [],
   "source": [
    "# Save alpha_0 and beta_0\n",
    "alpha_0 = 93.27\n",
    "beta_0 = 265.48"
   ]
  },
  {
   "cell_type": "markdown",
   "metadata": {},
   "source": [
    "Let's check these parameters: "
   ]
  },
  {
   "cell_type": "code",
   "execution_count": 8,
   "metadata": {},
   "outputs": [],
   "source": [
    "def plot_beta(x_range, a, b, mu=0, sigma=1, cdf=False, **kwargs):\n",
    "    x = x_range\n",
    "    if cdf:\n",
    "        y = beta.cdf(x, a, b, mu, sigma)\n",
    "    else: \n",
    "        y = beta.pdf(x, a, b, mu, sigma)\n",
    "    plt.plot(x, y, **kwargs)"
   ]
  },
  {
   "cell_type": "code",
   "execution_count": 10,
   "metadata": {},
   "outputs": [
    {
     "name": "stderr",
     "output_type": "stream",
     "text": [
      "/opt/anaconda3/lib/python3.7/site-packages/scipy/stats/stats.py:1713: FutureWarning: Using a non-tuple sequence for multidimensional indexing is deprecated; use `arr[tuple(seq)]` instead of `arr[seq]`. In the future this will be interpreted as an array index, `arr[np.array(seq)]`, which will result either in an error or a different result.\n",
      "  return np.add.reduce(sorted[indexer] * weights, axis=axis) / sumval\n"
     ]
    },
    {
     "data": {
      "image/png": "[encoded data removed]",
      "text/plain": [
       "<Figure size 432x288 with 1 Axes>"
      ]
     },
     "metadata": {
      "needs_background": "light"
     },
     "output_type": "display_data"
    }
   ],
   "source": [
    "# Plot beta distribution with estimated alpha and beta values\n",
    "sns.distplot(over_500['average'])\n",
    "\n",
    "x = np.linspace(0, 1, 5000)\n",
    "plot_beta(x, alpha_0, beta_0, 0, 1, color='blue', lw=2, ls='-', alpha=0.7)\n",
    "plt.show()"
   ]
  },
  {
   "cell_type": "markdown",
   "metadata": {},
   "source": [
    "So this matches fairly well!"
   ]
  },
  {
   "cell_type": "markdown",
   "metadata": {},
   "source": [
    "### 4. Use Distribution as a Prior for Individual Estimates"
   ]
  },
  {
   "cell_type": "markdown",
   "metadata": {},
   "source": [
    "When we look at any individual to estimate batting average, we start with the overall prior and update based on individual evidence.  It's as simple as adding values to alpha and beta that we start with.  Let's create a new column called `eb_estimates` that contains this calculation: "
   ]
  },
  {
   "cell_type": "code",
   "execution_count": 11,
   "metadata": {},
   "outputs": [
    {
     "data": {
      "text/html": [
       "<div>\n",
       "<style scoped>\n",
       "    .dataframe tbody tr th:only-of-type {\n",
       "        vertical-align: middle;\n",
       "    }\n",
       "\n",
       "    .dataframe tbody tr th {\n",
       "        vertical-align: top;\n",
       "    }\n",
       "\n",
       "    .dataframe thead th {\n",
       "        text-align: right;\n",
       "    }\n",
       "</style>\n",
       "<table border=\"1\" class=\"dataframe\">\n",
       "  <thead>\n",
       "    <tr style=\"text-align: right;\">\n",
       "      <th></th>\n",
       "      <th>H</th>\n",
       "      <th>AB</th>\n",
       "      <th>average</th>\n",
       "      <th>eb_estimate</th>\n",
       "    </tr>\n",
       "    <tr>\n",
       "      <th>playerID</th>\n",
       "      <th></th>\n",
       "      <th></th>\n",
       "      <th></th>\n",
       "      <th></th>\n",
       "    </tr>\n",
       "  </thead>\n",
       "  <tbody>\n",
       "    <tr>\n",
       "      <td>aaronha01</td>\n",
       "      <td>3771</td>\n",
       "      <td>12364</td>\n",
       "      <td>0.304998</td>\n",
       "      <td>0.303729</td>\n",
       "    </tr>\n",
       "    <tr>\n",
       "      <td>aaronto01</td>\n",
       "      <td>216</td>\n",
       "      <td>944</td>\n",
       "      <td>0.228814</td>\n",
       "      <td>0.237398</td>\n",
       "    </tr>\n",
       "    <tr>\n",
       "      <td>abadan01</td>\n",
       "      <td>2</td>\n",
       "      <td>21</td>\n",
       "      <td>0.095238</td>\n",
       "      <td>0.250876</td>\n",
       "    </tr>\n",
       "    <tr>\n",
       "      <td>abadijo01</td>\n",
       "      <td>11</td>\n",
       "      <td>49</td>\n",
       "      <td>0.224490</td>\n",
       "      <td>0.255720</td>\n",
       "    </tr>\n",
       "    <tr>\n",
       "      <td>abbated01</td>\n",
       "      <td>772</td>\n",
       "      <td>3044</td>\n",
       "      <td>0.253614</td>\n",
       "      <td>0.254286</td>\n",
       "    </tr>\n",
       "  </tbody>\n",
       "</table>\n",
       "</div>"
      ],
      "text/plain": [
       "              H     AB   average  eb_estimate\n",
       "playerID                                     \n",
       "aaronha01  3771  12364  0.304998     0.303729\n",
       "aaronto01   216    944  0.228814     0.237398\n",
       "abadan01      2     21  0.095238     0.250876\n",
       "abadijo01    11     49  0.224490     0.255720\n",
       "abbated01   772   3044  0.253614     0.254286"
      ]
     },
     "execution_count": 11,
     "metadata": {},
     "output_type": "execute_result"
    }
   ],
   "source": [
    "# Create eb_estimates column\n",
    "batting_new['eb_estimate'] = (batting_new['H'] + alpha_0) / (batting_new['AB'] + alpha_0 + beta_0)\n",
    "batting_new.head()"
   ]
  },
  {
   "cell_type": "markdown",
   "metadata": {},
   "source": [
    "Now that we finally have this, we can have a much better answer to the question \"who are the best and worst batters in the league?\": "
   ]
  },
  {
   "cell_type": "code",
   "execution_count": 12,
   "metadata": {},
   "outputs": [
    {
     "data": {
      "text/html": [
       "<div>\n",
       "<style scoped>\n",
       "    .dataframe tbody tr th:only-of-type {\n",
       "        vertical-align: middle;\n",
       "    }\n",
       "\n",
       "    .dataframe tbody tr th {\n",
       "        vertical-align: top;\n",
       "    }\n",
       "\n",
       "    .dataframe thead th {\n",
       "        text-align: right;\n",
       "    }\n",
       "</style>\n",
       "<table border=\"1\" class=\"dataframe\">\n",
       "  <thead>\n",
       "    <tr style=\"text-align: right;\">\n",
       "      <th></th>\n",
       "      <th>H</th>\n",
       "      <th>AB</th>\n",
       "      <th>average</th>\n",
       "      <th>eb_estimate</th>\n",
       "    </tr>\n",
       "    <tr>\n",
       "      <th>playerID</th>\n",
       "      <th></th>\n",
       "      <th></th>\n",
       "      <th></th>\n",
       "      <th></th>\n",
       "    </tr>\n",
       "  </thead>\n",
       "  <tbody>\n",
       "    <tr>\n",
       "      <td>delahed01</td>\n",
       "      <td>2597</td>\n",
       "      <td>7510</td>\n",
       "      <td>0.345806</td>\n",
       "      <td>0.341893</td>\n",
       "    </tr>\n",
       "    <tr>\n",
       "      <td>barnero01</td>\n",
       "      <td>860</td>\n",
       "      <td>2391</td>\n",
       "      <td>0.359682</td>\n",
       "      <td>0.346675</td>\n",
       "    </tr>\n",
       "    <tr>\n",
       "      <td>jacksjo01</td>\n",
       "      <td>1772</td>\n",
       "      <td>4981</td>\n",
       "      <td>0.355752</td>\n",
       "      <td>0.349318</td>\n",
       "    </tr>\n",
       "    <tr>\n",
       "      <td>hornsro01</td>\n",
       "      <td>2930</td>\n",
       "      <td>8173</td>\n",
       "      <td>0.358497</td>\n",
       "      <td>0.354355</td>\n",
       "    </tr>\n",
       "    <tr>\n",
       "      <td>cobbty01</td>\n",
       "      <td>4189</td>\n",
       "      <td>11436</td>\n",
       "      <td>0.366299</td>\n",
       "      <td>0.363066</td>\n",
       "    </tr>\n",
       "  </tbody>\n",
       "</table>\n",
       "</div>"
      ],
      "text/plain": [
       "              H     AB   average  eb_estimate\n",
       "playerID                                     \n",
       "delahed01  2597   7510  0.345806     0.341893\n",
       "barnero01   860   2391  0.359682     0.346675\n",
       "jacksjo01  1772   4981  0.355752     0.349318\n",
       "hornsro01  2930   8173  0.358497     0.354355\n",
       "cobbty01   4189  11436  0.366299     0.363066"
      ]
     },
     "execution_count": 12,
     "metadata": {},
     "output_type": "execute_result"
    }
   ],
   "source": [
    "# Get top 5 best batters\n",
    "batting_new.sort_values(by=['eb_estimate']).tail(5)"
   ]
  },
  {
   "cell_type": "code",
   "execution_count": 13,
   "metadata": {},
   "outputs": [
    {
     "data": {
      "text/html": [
       "<div>\n",
       "<style scoped>\n",
       "    .dataframe tbody tr th:only-of-type {\n",
       "        vertical-align: middle;\n",
       "    }\n",
       "\n",
       "    .dataframe tbody tr th {\n",
       "        vertical-align: top;\n",
       "    }\n",
       "\n",
       "    .dataframe thead th {\n",
       "        text-align: right;\n",
       "    }\n",
       "</style>\n",
       "<table border=\"1\" class=\"dataframe\">\n",
       "  <thead>\n",
       "    <tr style=\"text-align: right;\">\n",
       "      <th></th>\n",
       "      <th>H</th>\n",
       "      <th>AB</th>\n",
       "      <th>average</th>\n",
       "      <th>eb_estimate</th>\n",
       "    </tr>\n",
       "    <tr>\n",
       "      <th>playerID</th>\n",
       "      <th></th>\n",
       "      <th></th>\n",
       "      <th></th>\n",
       "      <th></th>\n",
       "    </tr>\n",
       "  </thead>\n",
       "  <tbody>\n",
       "    <tr>\n",
       "      <td>bergebi01</td>\n",
       "      <td>516</td>\n",
       "      <td>3028</td>\n",
       "      <td>0.170410</td>\n",
       "      <td>0.179898</td>\n",
       "    </tr>\n",
       "    <tr>\n",
       "      <td>oylerra01</td>\n",
       "      <td>221</td>\n",
       "      <td>1265</td>\n",
       "      <td>0.174704</td>\n",
       "      <td>0.193546</td>\n",
       "    </tr>\n",
       "    <tr>\n",
       "      <td>eastehe01</td>\n",
       "      <td>203</td>\n",
       "      <td>1129</td>\n",
       "      <td>0.179805</td>\n",
       "      <td>0.199140</td>\n",
       "    </tr>\n",
       "    <tr>\n",
       "      <td>vukovjo01</td>\n",
       "      <td>90</td>\n",
       "      <td>559</td>\n",
       "      <td>0.161002</td>\n",
       "      <td>0.199695</td>\n",
       "    </tr>\n",
       "    <tr>\n",
       "      <td>bakerge01</td>\n",
       "      <td>74</td>\n",
       "      <td>474</td>\n",
       "      <td>0.156118</td>\n",
       "      <td>0.200865</td>\n",
       "    </tr>\n",
       "  </tbody>\n",
       "</table>\n",
       "</div>"
      ],
      "text/plain": [
       "             H    AB   average  eb_estimate\n",
       "playerID                                   \n",
       "bergebi01  516  3028  0.170410     0.179898\n",
       "oylerra01  221  1265  0.174704     0.193546\n",
       "eastehe01  203  1129  0.179805     0.199140\n",
       "vukovjo01   90   559  0.161002     0.199695\n",
       "bakerge01   74   474  0.156118     0.200865"
      ]
     },
     "execution_count": 13,
     "metadata": {},
     "output_type": "execute_result"
    }
   ],
   "source": [
    "# Get top 5 worst batters\n",
    "batting_new.sort_values(by=['eb_estimate']).head(5)"
   ]
  },
  {
   "cell_type": "markdown",
   "metadata": {},
   "source": [
    "The great thing about our empirical Bayes estimates is that we can now use them for down-stream analyses and not worry anymore about if a case with 0/1 or 1/1 or something ruins anything! "
   ]
  },
  {
   "cell_type": "markdown",
   "metadata": {},
   "source": [
    "### 5. Conclusion"
   ]
  },
  {
   "cell_type": "markdown",
   "metadata": {},
   "source": [
    "There are two steps in any empirical Bayes estimation: \n",
    "\n",
    "- 1. Estimate the overall distribution of the data\n",
    "- 2. Use that distribution as the prior for estimating each average \n",
    "\n",
    "In step 1, we just used maximum likelihood estimation to come up with values for alpha and beta that best fit our data.  In step 2, because we're using the beta and binomial, we just add successes to alpha and misses to the total, which took almost no time at all to compute.  "
   ]
  }
 ],
 "metadata": {
  "kernelspec": {
   "display_name": "Python 3",
   "language": "python",
   "name": "python3"
  },
  "language_info": {
   "codemirror_mode": {
    "name": "ipython",
    "version": 3
   },
   "file_extension": ".py",
   "mimetype": "text/x-python",
   "name": "python",
   "nbconvert_exporter": "python",
   "pygments_lexer": "ipython3",
   "version": "3.7.4"
  }
 },
 "nbformat": 4,
 "nbformat_minor": 2
}
