{
 "cells": [
  {
   "cell_type": "code",
   "execution_count": 1,
   "metadata": {},
   "outputs": [],
   "source": [
    "import numpy as np\n",
    "import pandas as pd\n",
    "import matplotlib.pyplot as plt\n",
    "import seaborn as sns\n",
    "from scipy.stats import beta, binom\n",
    "\n",
    "plt.style.use('ggplot')"
   ]
  },
  {
   "cell_type": "markdown",
   "metadata": {},
   "source": [
    "### 1. Introduction "
   ]
  },
  {
   "cell_type": "markdown",
   "metadata": {},
   "source": [
    "Now that we've seen how to calculate point estimates and build credible intervals, sometimes rather than looking at these, we want to answer a yes or no question about a hypothesis, thus classifying our data into two groups.  For example, we might want to calculate the number of players to include in a hall of fame who have a batting probability greater than .300.  To solve this, we use a Bayesian approach to a frequentist method, *false discovery rate control*.  "
   ]
  },
  {
   "cell_type": "markdown",
   "metadata": {},
   "source": [
    "### 2. Setup"
   ]
  },
  {
   "cell_type": "markdown",
   "metadata": {},
   "source": [
    "Like before, let's get our same data with our estimated alpha and beta MLE values and our posterior alpha and beta values for each player: "
   ]
  },
  {
   "cell_type": "code",
   "execution_count": 2,
   "metadata": {},
   "outputs": [
    {
     "data": {
      "text/html": [
       "<div>\n",
       "<style scoped>\n",
       "    .dataframe tbody tr th:only-of-type {\n",
       "        vertical-align: middle;\n",
       "    }\n",
       "\n",
       "    .dataframe tbody tr th {\n",
       "        vertical-align: top;\n",
       "    }\n",
       "\n",
       "    .dataframe thead th {\n",
       "        text-align: right;\n",
       "    }\n",
       "</style>\n",
       "<table border=\"1\" class=\"dataframe\">\n",
       "  <thead>\n",
       "    <tr style=\"text-align: right;\">\n",
       "      <th></th>\n",
       "      <th>H</th>\n",
       "      <th>AB</th>\n",
       "      <th>average</th>\n",
       "      <th>eb_estimate</th>\n",
       "      <th>alpha</th>\n",
       "      <th>beta</th>\n",
       "    </tr>\n",
       "    <tr>\n",
       "      <th>playerID</th>\n",
       "      <th></th>\n",
       "      <th></th>\n",
       "      <th></th>\n",
       "      <th></th>\n",
       "      <th></th>\n",
       "      <th></th>\n",
       "    </tr>\n",
       "  </thead>\n",
       "  <tbody>\n",
       "    <tr>\n",
       "      <td>aardsda01</td>\n",
       "      <td>0</td>\n",
       "      <td>4</td>\n",
       "      <td>0.000000</td>\n",
       "      <td>0.246830</td>\n",
       "      <td>42.899</td>\n",
       "      <td>130.901</td>\n",
       "    </tr>\n",
       "    <tr>\n",
       "      <td>aaronha01</td>\n",
       "      <td>3771</td>\n",
       "      <td>12364</td>\n",
       "      <td>0.304998</td>\n",
       "      <td>0.304289</td>\n",
       "      <td>3813.899</td>\n",
       "      <td>8719.901</td>\n",
       "    </tr>\n",
       "    <tr>\n",
       "      <td>aaronto01</td>\n",
       "      <td>216</td>\n",
       "      <td>944</td>\n",
       "      <td>0.228814</td>\n",
       "      <td>0.232447</td>\n",
       "      <td>258.899</td>\n",
       "      <td>854.901</td>\n",
       "    </tr>\n",
       "    <tr>\n",
       "      <td>aasedo01</td>\n",
       "      <td>0</td>\n",
       "      <td>5</td>\n",
       "      <td>0.000000</td>\n",
       "      <td>0.245418</td>\n",
       "      <td>42.899</td>\n",
       "      <td>131.901</td>\n",
       "    </tr>\n",
       "    <tr>\n",
       "      <td>abadan01</td>\n",
       "      <td>2</td>\n",
       "      <td>21</td>\n",
       "      <td>0.095238</td>\n",
       "      <td>0.235320</td>\n",
       "      <td>44.899</td>\n",
       "      <td>145.901</td>\n",
       "    </tr>\n",
       "  </tbody>\n",
       "</table>\n",
       "</div>"
      ],
      "text/plain": [
       "              H     AB   average  eb_estimate     alpha      beta\n",
       "playerID                                                         \n",
       "aardsda01     0      4  0.000000     0.246830    42.899   130.901\n",
       "aaronha01  3771  12364  0.304998     0.304289  3813.899  8719.901\n",
       "aaronto01   216    944  0.228814     0.232447   258.899   854.901\n",
       "aasedo01      0      5  0.000000     0.245418    42.899   131.901\n",
       "abadan01      2     21  0.095238     0.235320    44.899   145.901"
      ]
     },
     "execution_count": 2,
     "metadata": {},
     "output_type": "execute_result"
    }
   ],
   "source": [
    "# Load Lahman batting dataset\n",
    "batting = pd.read_csv('data/batting.csv')\n",
    "\n",
    "# Filter dataset\n",
    "batting = batting[batting['AB'] > 0]\n",
    "batting_new = batting.groupby('playerID')[['H', 'AB']].sum()\n",
    "batting_new['average'] = batting_new['H'] / batting_new['AB']\n",
    "\n",
    "# alpha_0 and beta_0 from MLE \n",
    "alpha_0 = 42.899\n",
    "beta_0 = 126.901\n",
    "\n",
    "# Create eb_estimates column\n",
    "batting_new['eb_estimate'] = (batting_new['H'] + alpha_0) / (batting_new['AB'] + alpha_0 + beta_0)\n",
    "\n",
    "# Add alpha and beta columns to batting_new\n",
    "batting_new['alpha'] = alpha_0 + batting_new['H']\n",
    "batting_new['beta'] = beta_0 + batting_new['AB'] - batting_new['H']\n",
    "batting_new.head()"
   ]
  },
  {
   "cell_type": "markdown",
   "metadata": {},
   "source": [
    "### 3. Posterior Error Probabilities"
   ]
  },
  {
   "cell_type": "markdown",
   "metadata": {},
   "source": [
    "Consider Hank Aaron (RIP to him, he passed recently as I am writing this).  His career batting average was about 0.305, but we want to include him in the hall of fame based on his \"true probability\" of hitting.  His empirical Bayes estimate is about 0.3043, so we *suspect* that his true probability of hitting is higher than .300, but we aren't 100% certain of this.  Let's check his beta distribution: "
   ]
  },
  {
   "cell_type": "code",
   "execution_count": 3,
   "metadata": {},
   "outputs": [],
   "source": [
    "# Beta distribution function\n",
    "def plot_beta(x_range, a, b, mu=0, sigma=1, cdf=False, **kwargs):\n",
    "    x = x_range\n",
    "    if cdf:\n",
    "        y = beta.cdf(x, a, b, mu, sigma)\n",
    "    else: \n",
    "        y = beta.pdf(x, a, b, mu, sigma)\n",
    "    plt.plot(x, y, **kwargs)"
   ]
  },
  {
   "cell_type": "code",
   "execution_count": 13,
   "metadata": {},
   "outputs": [
    {
     "data": {
      "image/png": "[encoded data removed]",
      "text/plain": [
       "<Figure size 432x288 with 1 Axes>"
      ]
     },
     "metadata": {
      "needs_background": "light"
     },
     "output_type": "display_data"
    }
   ],
   "source": [
    "# Hank Aaron beta distribution \n",
    "x = np.linspace(0, 1, 5000)\n",
    "plot_beta(x, 3814, 8720, 0, 1, color='blue', lw=2, ls='-', alpha=0.7)\n",
    "plt.vlines(x=0.3, ymin=0, ymax=100, colors='r', linestyles='dashed', label='')\n",
    "plt.xlim([0.28, 0.32])\n",
    "plt.xlabel('Batting Average')\n",
    "plt.ylabel('Density')\n",
    "plt.show()"
   ]
  },
  {
   "cell_type": "markdown",
   "metadata": {},
   "source": [
    "So as we see above, there is a decent non-zero probability of Hank Aaron's true probability being less than .300.  We can calculate this probability using the CDF of the beta distribution: "
   ]
  },
  {
   "cell_type": "code",
   "execution_count": 14,
   "metadata": {},
   "outputs": [
    {
     "name": "stdout",
     "output_type": "stream",
     "text": [
      "Hank Aaron PEP: 0.14808744404518484\n"
     ]
    }
   ],
   "source": [
    "# Calculate posterior error probability for Hank Aaron\n",
    "from scipy.stats import beta\n",
    "print(f'Hank Aaron PEP: {beta.cdf(.3, 3814, 8720)}')"
   ]
  },
  {
   "cell_type": "markdown",
   "metadata": {},
   "source": [
    "The PEP represents the probability that a player does **not** belong in the hall of fame.  We can just as easily calculate the PEP for every player in the dataset: "
   ]
  },
  {
   "cell_type": "code",
   "execution_count": 15,
   "metadata": {},
   "outputs": [
    {
     "data": {
      "text/html": [
       "<div>\n",
       "<style scoped>\n",
       "    .dataframe tbody tr th:only-of-type {\n",
       "        vertical-align: middle;\n",
       "    }\n",
       "\n",
       "    .dataframe tbody tr th {\n",
       "        vertical-align: top;\n",
       "    }\n",
       "\n",
       "    .dataframe thead th {\n",
       "        text-align: right;\n",
       "    }\n",
       "</style>\n",
       "<table border=\"1\" class=\"dataframe\">\n",
       "  <thead>\n",
       "    <tr style=\"text-align: right;\">\n",
       "      <th></th>\n",
       "      <th>H</th>\n",
       "      <th>AB</th>\n",
       "      <th>average</th>\n",
       "      <th>eb_estimate</th>\n",
       "      <th>alpha</th>\n",
       "      <th>beta</th>\n",
       "      <th>PEP</th>\n",
       "    </tr>\n",
       "    <tr>\n",
       "      <th>playerID</th>\n",
       "      <th></th>\n",
       "      <th></th>\n",
       "      <th></th>\n",
       "      <th></th>\n",
       "      <th></th>\n",
       "      <th></th>\n",
       "      <th></th>\n",
       "    </tr>\n",
       "  </thead>\n",
       "  <tbody>\n",
       "    <tr>\n",
       "      <td>aardsda01</td>\n",
       "      <td>0</td>\n",
       "      <td>4</td>\n",
       "      <td>0.000000</td>\n",
       "      <td>0.246830</td>\n",
       "      <td>42.899</td>\n",
       "      <td>130.901</td>\n",
       "      <td>0.943590</td>\n",
       "    </tr>\n",
       "    <tr>\n",
       "      <td>aaronha01</td>\n",
       "      <td>3771</td>\n",
       "      <td>12364</td>\n",
       "      <td>0.304998</td>\n",
       "      <td>0.304289</td>\n",
       "      <td>3813.899</td>\n",
       "      <td>8719.901</td>\n",
       "      <td>0.148270</td>\n",
       "    </tr>\n",
       "    <tr>\n",
       "      <td>aaronto01</td>\n",
       "      <td>216</td>\n",
       "      <td>944</td>\n",
       "      <td>0.228814</td>\n",
       "      <td>0.232447</td>\n",
       "      <td>258.899</td>\n",
       "      <td>854.901</td>\n",
       "      <td>1.000000</td>\n",
       "    </tr>\n",
       "    <tr>\n",
       "      <td>aasedo01</td>\n",
       "      <td>0</td>\n",
       "      <td>5</td>\n",
       "      <td>0.000000</td>\n",
       "      <td>0.245418</td>\n",
       "      <td>42.899</td>\n",
       "      <td>131.901</td>\n",
       "      <td>0.948722</td>\n",
       "    </tr>\n",
       "    <tr>\n",
       "      <td>abadan01</td>\n",
       "      <td>2</td>\n",
       "      <td>21</td>\n",
       "      <td>0.095238</td>\n",
       "      <td>0.235320</td>\n",
       "      <td>44.899</td>\n",
       "      <td>145.901</td>\n",
       "      <td>0.978446</td>\n",
       "    </tr>\n",
       "  </tbody>\n",
       "</table>\n",
       "</div>"
      ],
      "text/plain": [
       "              H     AB   average  eb_estimate     alpha      beta       PEP\n",
       "playerID                                                                   \n",
       "aardsda01     0      4  0.000000     0.246830    42.899   130.901  0.943590\n",
       "aaronha01  3771  12364  0.304998     0.304289  3813.899  8719.901  0.148270\n",
       "aaronto01   216    944  0.228814     0.232447   258.899   854.901  1.000000\n",
       "aasedo01      0      5  0.000000     0.245418    42.899   131.901  0.948722\n",
       "abadan01      2     21  0.095238     0.235320    44.899   145.901  0.978446"
      ]
     },
     "execution_count": 15,
     "metadata": {},
     "output_type": "execute_result"
    }
   ],
   "source": [
    "# Add PEP column for every player\n",
    "batting_new['PEP'] = beta.cdf(.3, batting_new['alpha'], batting_new['beta'])\n",
    "batting_new.head()"
   ]
  },
  {
   "cell_type": "markdown",
   "metadata": {},
   "source": [
    "Unsurprisingly after seeing the PEP values for most players, it is clear that they do *not* belong in the hall of fame; we know their batting averages are below .300.  Let's check a histogram of these values: "
   ]
  },
  {
   "cell_type": "code",
   "execution_count": 17,
   "metadata": {},
   "outputs": [
    {
     "data": {
      "image/png": "[encoded data removed]",
      "text/plain": [
       "<Figure size 432x288 with 1 Axes>"
      ]
     },
     "metadata": {
      "needs_background": "light"
     },
     "output_type": "display_data"
    }
   ],
   "source": [
    "# PEP histogram \n",
    "plt.hist(batting_new['PEP']);"
   ]
  },
  {
   "cell_type": "markdown",
   "metadata": {},
   "source": [
    "The PEP is closely related to the estimated batting average.  To have a PEP of less than 50%, we need to have a shrunken batting average greater than .300.  "
   ]
  },
  {
   "cell_type": "markdown",
   "metadata": {},
   "source": [
    "### 4. False Discovery Rate"
   ]
  },
  {
   "cell_type": "markdown",
   "metadata": {},
   "source": [
    "Now we need a threshold for inclusion in the hall of fame.  Which criteria should be use? We can try including as many players as possible, while ensuring that no more than 5% of the hall of fame was mistakenly included.  In other words, if you are in the hall of fame, the probability you belong there is at least 95%.  This criterion is called **false discovery rate control**.  There is nothing special about 5%; we can change it to whatever percentage we want to change the level of scrutiny, but 5% is a common standard.  So let's start with easy cases. Let's check the players with the lowest PEP: "
   ]
  },
  {
   "cell_type": "code",
   "execution_count": 19,
   "metadata": {},
   "outputs": [
    {
     "data": {
      "text/html": [
       "<div>\n",
       "<style scoped>\n",
       "    .dataframe tbody tr th:only-of-type {\n",
       "        vertical-align: middle;\n",
       "    }\n",
       "\n",
       "    .dataframe tbody tr th {\n",
       "        vertical-align: top;\n",
       "    }\n",
       "\n",
       "    .dataframe thead th {\n",
       "        text-align: right;\n",
       "    }\n",
       "</style>\n",
       "<table border=\"1\" class=\"dataframe\">\n",
       "  <thead>\n",
       "    <tr style=\"text-align: right;\">\n",
       "      <th></th>\n",
       "      <th>H</th>\n",
       "      <th>AB</th>\n",
       "      <th>average</th>\n",
       "      <th>eb_estimate</th>\n",
       "      <th>alpha</th>\n",
       "      <th>beta</th>\n",
       "      <th>PEP</th>\n",
       "    </tr>\n",
       "    <tr>\n",
       "      <th>playerID</th>\n",
       "      <th></th>\n",
       "      <th></th>\n",
       "      <th></th>\n",
       "      <th></th>\n",
       "      <th></th>\n",
       "      <th></th>\n",
       "      <th></th>\n",
       "    </tr>\n",
       "  </thead>\n",
       "  <tbody>\n",
       "    <tr>\n",
       "      <td>cobbty01</td>\n",
       "      <td>4189</td>\n",
       "      <td>11436</td>\n",
       "      <td>0.366299</td>\n",
       "      <td>0.364637</td>\n",
       "      <td>4231.899</td>\n",
       "      <td>7373.901</td>\n",
       "      <td>1.244186e-50</td>\n",
       "    </tr>\n",
       "    <tr>\n",
       "      <td>hornsro01</td>\n",
       "      <td>2930</td>\n",
       "      <td>8173</td>\n",
       "      <td>0.358497</td>\n",
       "      <td>0.356343</td>\n",
       "      <td>2972.899</td>\n",
       "      <td>5369.901</td>\n",
       "      <td>1.120188e-28</td>\n",
       "    </tr>\n",
       "    <tr>\n",
       "      <td>speaktr01</td>\n",
       "      <td>3514</td>\n",
       "      <td>10195</td>\n",
       "      <td>0.344679</td>\n",
       "      <td>0.343171</td>\n",
       "      <td>3556.899</td>\n",
       "      <td>6807.901</td>\n",
       "      <td>1.426289e-21</td>\n",
       "    </tr>\n",
       "    <tr>\n",
       "      <td>delahed01</td>\n",
       "      <td>2597</td>\n",
       "      <td>7510</td>\n",
       "      <td>0.345806</td>\n",
       "      <td>0.343746</td>\n",
       "      <td>2639.899</td>\n",
       "      <td>5039.901</td>\n",
       "      <td>7.503699e-17</td>\n",
       "    </tr>\n",
       "    <tr>\n",
       "      <td>willite01</td>\n",
       "      <td>2654</td>\n",
       "      <td>7706</td>\n",
       "      <td>0.344407</td>\n",
       "      <td>0.342429</td>\n",
       "      <td>2696.899</td>\n",
       "      <td>5178.901</td>\n",
       "      <td>2.484821e-16</td>\n",
       "    </tr>\n",
       "  </tbody>\n",
       "</table>\n",
       "</div>"
      ],
      "text/plain": [
       "              H     AB   average  eb_estimate     alpha      beta  \\\n",
       "playerID                                                            \n",
       "cobbty01   4189  11436  0.366299     0.364637  4231.899  7373.901   \n",
       "hornsro01  2930   8173  0.358497     0.356343  2972.899  5369.901   \n",
       "speaktr01  3514  10195  0.344679     0.343171  3556.899  6807.901   \n",
       "delahed01  2597   7510  0.345806     0.343746  2639.899  5039.901   \n",
       "willite01  2654   7706  0.344407     0.342429  2696.899  5178.901   \n",
       "\n",
       "                    PEP  \n",
       "playerID                 \n",
       "cobbty01   1.244186e-50  \n",
       "hornsro01  1.120188e-28  \n",
       "speaktr01  1.426289e-21  \n",
       "delahed01  7.503699e-17  \n",
       "willite01  2.484821e-16  "
      ]
     },
     "execution_count": 19,
     "metadata": {},
     "output_type": "execute_result"
    }
   ],
   "source": [
    "# Players with lowest PEP\n",
    "batting_new.sort_values(by=['PEP']).head(5)"
   ]
  },
  {
   "cell_type": "markdown",
   "metadata": {},
   "source": [
    "These players all have a PEP essentially at 0, so they are shoe-ins for a hall of fame.  But what about players down the list? Let's suppose we take the top 135 players.  What would we predict the false discovery rate to be? Since we know the PEP of the 135 players, which is the probability that an individual player is a false positive, we can just add up these probabilities to get the expected value of the total number of false positives in the group: "
   ]
  },
  {
   "cell_type": "code",
   "execution_count": 40,
   "metadata": {},
   "outputs": [
    {
     "data": {
      "text/plain": [
       "4.986846244427173"
      ]
     },
     "execution_count": 40,
     "metadata": {},
     "output_type": "execute_result"
    }
   ],
   "source": [
    "# Get top 100 players by PEP\n",
    "top135 = batting_new.sort_values(by=['PEP']).head(135)\n",
    "top135['PEP'].sum()"
   ]
  },
  {
   "cell_type": "markdown",
   "metadata": {},
   "source": [
    "So out of our top 135 player list, we expect about five of them to be false discoveries.   "
   ]
  },
  {
   "cell_type": "markdown",
   "metadata": {},
   "source": [
    "### 5. Q-Values"
   ]
  },
  {
   "cell_type": "markdown",
   "metadata": {},
   "source": [
    "We could experiment with many thresholds to get our desired FDR for each.  But it's easier to just compute all thresholds at once, by computing the cumulative mean of all the sorted posterior error probabilities.  This cumulative mean is called the **q-value**: "
   ]
  },
  {
   "cell_type": "code",
   "execution_count": 41,
   "metadata": {},
   "outputs": [
    {
     "data": {
      "text/html": [
       "<div>\n",
       "<style scoped>\n",
       "    .dataframe tbody tr th:only-of-type {\n",
       "        vertical-align: middle;\n",
       "    }\n",
       "\n",
       "    .dataframe tbody tr th {\n",
       "        vertical-align: top;\n",
       "    }\n",
       "\n",
       "    .dataframe thead th {\n",
       "        text-align: right;\n",
       "    }\n",
       "</style>\n",
       "<table border=\"1\" class=\"dataframe\">\n",
       "  <thead>\n",
       "    <tr style=\"text-align: right;\">\n",
       "      <th></th>\n",
       "      <th>H</th>\n",
       "      <th>AB</th>\n",
       "      <th>average</th>\n",
       "      <th>eb_estimate</th>\n",
       "      <th>alpha</th>\n",
       "      <th>beta</th>\n",
       "      <th>PEP</th>\n",
       "      <th>qvalue</th>\n",
       "    </tr>\n",
       "    <tr>\n",
       "      <th>playerID</th>\n",
       "      <th></th>\n",
       "      <th></th>\n",
       "      <th></th>\n",
       "      <th></th>\n",
       "      <th></th>\n",
       "      <th></th>\n",
       "      <th></th>\n",
       "      <th></th>\n",
       "    </tr>\n",
       "  </thead>\n",
       "  <tbody>\n",
       "    <tr>\n",
       "      <td>aardsda01</td>\n",
       "      <td>0</td>\n",
       "      <td>4</td>\n",
       "      <td>0.000000</td>\n",
       "      <td>0.246830</td>\n",
       "      <td>42.899</td>\n",
       "      <td>130.901</td>\n",
       "      <td>0.943590</td>\n",
       "      <td>0.943590</td>\n",
       "    </tr>\n",
       "    <tr>\n",
       "      <td>aaronha01</td>\n",
       "      <td>3771</td>\n",
       "      <td>12364</td>\n",
       "      <td>0.304998</td>\n",
       "      <td>0.304289</td>\n",
       "      <td>3813.899</td>\n",
       "      <td>8719.901</td>\n",
       "      <td>0.148270</td>\n",
       "      <td>0.545930</td>\n",
       "    </tr>\n",
       "    <tr>\n",
       "      <td>aaronto01</td>\n",
       "      <td>216</td>\n",
       "      <td>944</td>\n",
       "      <td>0.228814</td>\n",
       "      <td>0.232447</td>\n",
       "      <td>258.899</td>\n",
       "      <td>854.901</td>\n",
       "      <td>1.000000</td>\n",
       "      <td>0.697287</td>\n",
       "    </tr>\n",
       "    <tr>\n",
       "      <td>aasedo01</td>\n",
       "      <td>0</td>\n",
       "      <td>5</td>\n",
       "      <td>0.000000</td>\n",
       "      <td>0.245418</td>\n",
       "      <td>42.899</td>\n",
       "      <td>131.901</td>\n",
       "      <td>0.948722</td>\n",
       "      <td>0.760145</td>\n",
       "    </tr>\n",
       "    <tr>\n",
       "      <td>abadan01</td>\n",
       "      <td>2</td>\n",
       "      <td>21</td>\n",
       "      <td>0.095238</td>\n",
       "      <td>0.235320</td>\n",
       "      <td>44.899</td>\n",
       "      <td>145.901</td>\n",
       "      <td>0.978446</td>\n",
       "      <td>0.803805</td>\n",
       "    </tr>\n",
       "  </tbody>\n",
       "</table>\n",
       "</div>"
      ],
      "text/plain": [
       "              H     AB   average  eb_estimate     alpha      beta       PEP  \\\n",
       "playerID                                                                      \n",
       "aardsda01     0      4  0.000000     0.246830    42.899   130.901  0.943590   \n",
       "aaronha01  3771  12364  0.304998     0.304289  3813.899  8719.901  0.148270   \n",
       "aaronto01   216    944  0.228814     0.232447   258.899   854.901  1.000000   \n",
       "aasedo01      0      5  0.000000     0.245418    42.899   131.901  0.948722   \n",
       "abadan01      2     21  0.095238     0.235320    44.899   145.901  0.978446   \n",
       "\n",
       "             qvalue  \n",
       "playerID             \n",
       "aardsda01  0.943590  \n",
       "aaronha01  0.545930  \n",
       "aaronto01  0.697287  \n",
       "aasedo01   0.760145  \n",
       "abadan01   0.803805  "
      ]
     },
     "execution_count": 41,
     "metadata": {},
     "output_type": "execute_result"
    }
   ],
   "source": [
    "# Calculate q-value\n",
    "batting_new['qvalue'] = np.cumsum(batting_new['PEP']) / np.arange(1,17594)\n",
    "batting_new.head()"
   ]
  },
  {
   "cell_type": "markdown",
   "metadata": {},
   "source": [
    "The q-value can be thought of as an analogue to the p-value for controlling FDRs in multiple testing.  The q-value is convenient because we can say \"to control the FDR at X%, collect only hypotheses where q < X.  So let's save the values for less than 5%: "
   ]
  }
 ],
 "metadata": {
  "kernelspec": {
   "display_name": "Python 3",
   "language": "python",
   "name": "python3"
  },
  "language_info": {
   "codemirror_mode": {
    "name": "ipython",
    "version": 3
   },
   "file_extension": ".py",
   "mimetype": "text/x-python",
   "name": "python",
   "nbconvert_exporter": "python",
   "pygments_lexer": "ipython3",
   "version": "3.7.4"
  }
 },
 "nbformat": 4,
 "nbformat_minor": 2
}
